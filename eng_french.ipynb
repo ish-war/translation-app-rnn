{
 "cells": [
  {
   "cell_type": "markdown",
   "metadata": {},
   "source": [
    "Machine Transaltion Project "
   ]
  },
  {
   "cell_type": "code",
   "execution_count": 3,
   "metadata": {},
   "outputs": [
    {
     "name": "stdout",
     "output_type": "stream",
     "text": [
      "hii\n"
     ]
    }
   ],
   "source": [
    "print('hii')"
   ]
  },
  {
   "cell_type": "code",
   "execution_count": 4,
   "metadata": {},
   "outputs": [],
   "source": [
    "import collections\n",
    "import numpy as np\n",
    "import json"
   ]
  },
  {
   "cell_type": "code",
   "execution_count": 5,
   "metadata": {},
   "outputs": [],
   "source": [
    "from keras_preprocessing.text import Tokenizer\n",
    "from keras_preprocessing.sequence import pad_sequences\n",
    "from tensorflow.keras.models import Model"
   ]
  },
  {
   "cell_type": "code",
   "execution_count": 6,
   "metadata": {},
   "outputs": [],
   "source": [
    "import tensorflow as tf"
   ]
  },
  {
   "cell_type": "code",
   "execution_count": 7,
   "metadata": {},
   "outputs": [
    {
     "data": {
      "text/plain": [
       "'2.10.1'"
      ]
     },
     "execution_count": 7,
     "metadata": {},
     "output_type": "execute_result"
    }
   ],
   "source": [
    "tf.__version__"
   ]
  },
  {
   "cell_type": "code",
   "execution_count": 8,
   "metadata": {},
   "outputs": [],
   "source": [
    "from tensorflow.keras.models import Model, Sequential\n",
    "from keras.layers import Input, Dense, Embedding, GRU, LSTM, Bidirectional, Dropout, Activation, TimeDistributed, RepeatVector\n",
    "from keras.optimizers import Adam\n",
    "from keras.losses import sparse_categorical_crossentropy"
   ]
  },
  {
   "cell_type": "markdown",
   "metadata": {},
   "source": [
    "verify access to the GPU"
   ]
  },
  {
   "cell_type": "code",
   "execution_count": 9,
   "metadata": {},
   "outputs": [
    {
     "name": "stdout",
     "output_type": "stream",
     "text": [
      "[name: \"/device:CPU:0\"\n",
      "device_type: \"CPU\"\n",
      "memory_limit: 268435456\n",
      "locality {\n",
      "}\n",
      "incarnation: 3605074322923439580\n",
      "xla_global_id: -1\n",
      "]\n"
     ]
    }
   ],
   "source": [
    "from tensorflow.python.client import device_lib\n",
    "print(device_lib.list_local_devices())"
   ]
  },
  {
   "cell_type": "markdown",
   "metadata": {},
   "source": [
    "Dataset"
   ]
  },
  {
   "cell_type": "markdown",
   "metadata": {},
   "source": [
    "for our machine translation project we opt for a dataset featuring a limited vocabulary, specifically designed to facilitate a more manageable and efficient training process. Unlike the extensive WMT datasets, our chosen dataset ensures a quicker training time and demands fewer computational resources. This strategic decision aims to balance the learning experience while still achieving meaningful results within practical time constraints. "
   ]
  },
  {
   "cell_type": "markdown",
   "metadata": {},
   "source": [
    "Load Dataset"
   ]
  },
  {
   "cell_type": "code",
   "execution_count": 10,
   "metadata": {},
   "outputs": [],
   "source": [
    "def load_data(path) :\n",
    "    input_file = path\n",
    "    with open(input_file, \"r\") as f :\n",
    "        data = f.read()\n",
    "    return data.split('\\n')\n",
    "\n",
    "english_sentences = load_data('data/english.txt')\n",
    "french_sentences = load_data('data/french.txt')"
   ]
  },
  {
   "cell_type": "code",
   "execution_count": 11,
   "metadata": {},
   "outputs": [
    {
     "data": {
      "text/plain": [
       "'the united states is usually chilly during july , and it is usually freezing in november .'"
      ]
     },
     "execution_count": 11,
     "metadata": {},
     "output_type": "execute_result"
    }
   ],
   "source": [
    "english_sentences[1]"
   ]
  },
  {
   "cell_type": "code",
   "execution_count": 12,
   "metadata": {},
   "outputs": [
    {
     "data": {
      "text/plain": [
       "'les états-unis est généralement froid en juillet , et il gèle habituellement en novembre .'"
      ]
     },
     "execution_count": 12,
     "metadata": {},
     "output_type": "execute_result"
    }
   ],
   "source": [
    "french_sentences[1]"
   ]
  },
  {
   "cell_type": "markdown",
   "metadata": {},
   "source": [
    "sample data "
   ]
  },
  {
   "cell_type": "code",
   "execution_count": 13,
   "metadata": {},
   "outputs": [
    {
     "data": {
      "text/plain": [
       "['new jersey is sometimes quiet during autumn , and it is snowy in april .',\n",
       " 'the united states is usually chilly during july , and it is usually freezing in november .',\n",
       " 'california is usually quiet during march , and it is usually hot in june .',\n",
       " 'the united states is sometimes mild during june , and it is cold in september .',\n",
       " 'your least liked fruit is the grape , but my least liked is the apple .']"
      ]
     },
     "execution_count": 13,
     "metadata": {},
     "output_type": "execute_result"
    }
   ],
   "source": [
    "english_sentences[:5]"
   ]
  },
  {
   "cell_type": "markdown",
   "metadata": {},
   "source": [
    "By examining the sentences, it's apparent that they undergone preprocessing, punctuation has been delimited with spaces, and all the text has been converted to lowercase. This preprocessing serves a crucial purpose in text preparation. Firstly, delimiting punctuation with spaces ensures that each punctuation mark is treated as a seperate token, aiding the model in understanding sentence structure. Secondly, converting the entire text to lowercase standardizes the input, preventing the model from distinguishing between words solely based on their casing. This uniformity facilitates more effective training and generalization, enhancing the model's ability to grasp patterns and generate accurate translations. "
   ]
  },
  {
   "cell_type": "markdown",
   "metadata": {},
   "source": [
    "Structure of Dataset "
   ]
  },
  {
   "cell_type": "code",
   "execution_count": 14,
   "metadata": {},
   "outputs": [
    {
     "name": "stdout",
     "output_type": "stream",
     "text": [
      "1823250 English words.\n",
      "227 unique English words.\n",
      "10 most common words in english  dataset: \n",
      "\"is\" \",\" \".\" \"in\" \"it\" \"during\" \"the\" \"but\" \"and\" \"sometimes\"\n",
      "\n",
      "1961295 french words.\n",
      "355 unique French words.\n",
      "10 most common words in french dataset: \n",
      "\"est\" \".\" \",\" \"en\" \"il\" \"les\" \"mais\" \"et\" \"la\" \"parfois\"\n"
     ]
    }
   ],
   "source": [
    "english_words_counter = collections.Counter([word for sentence in english_sentences for word in sentence.split()])\n",
    "french_words_counter = collections.Counter([word for sentence in french_sentences for word in sentence.split()])\n",
    "\n",
    "print('{} English words.'.format(len([word for sentence in english_sentences for word in sentence.split()])))\n",
    "print('{} unique English words.'.format(len(english_words_counter)))\n",
    "print('10 most common words in english  dataset: ')\n",
    "print('\"' + '\" \"'.join(list(zip(*english_words_counter.most_common(10)))[0]) + '\"')\n",
    "\n",
    "print()\n",
    "print('{} french words.'.format(len([word for sentence in french_sentences for word in sentence.split()])))\n",
    "print('{} unique French words.'.format(len(french_words_counter)))\n",
    "print('10 most common words in french dataset: ')\n",
    "print('\"' + '\" \"'.join(list(zip(*french_words_counter.most_common(10)))[0]) + '\"')\n"
   ]
  },
  {
   "cell_type": "markdown",
   "metadata": {},
   "source": [
    "Preprocess"
   ]
  },
  {
   "cell_type": "markdown",
   "metadata": {},
   "source": [
    "1. Tokenize the words into ids\n",
    "2. Add padding to make all the sequences the same length."
   ]
  },
  {
   "cell_type": "code",
   "execution_count": 15,
   "metadata": {},
   "outputs": [
    {
     "name": "stdout",
     "output_type": "stream",
     "text": [
      "{'the': 1, 'quick': 2, 'a': 3, 'brown': 4, 'fox': 5, 'jumps': 6, 'over': 7, 'lazy': 8, 'dog': 9, 'by': 10, 'jove': 11, 'my': 12, 'study': 13, 'of': 14, 'lexicography': 15, 'won': 16, 'prize': 17, 'this': 18, 'is': 19, 'short': 20, 'sentence': 21}\n",
      "\n",
      "Sequence 1 in x\n",
      " Input: The quick brown fox jumps over the lazy dog .\n",
      " Output: [1, 2, 4, 5, 6, 7, 1, 8, 9]\n",
      "Sequence 2 in x\n",
      " Input: By Jove , my quick study of lexicography won a prize .\n",
      " Output: [10, 11, 12, 2, 13, 14, 15, 16, 3, 17]\n",
      "Sequence 3 in x\n",
      " Input: This is a short sentence .\n",
      " Output: [18, 19, 3, 20, 21]\n"
     ]
    }
   ],
   "source": [
    "def tokenize(x):\n",
    "    tokenizer = Tokenizer()\n",
    "    tokenizer.fit_on_texts(x)\n",
    "    return tokenizer.texts_to_sequences(x), tokenizer\n",
    "\n",
    "\n",
    "text_sentences = [\n",
    "    'The quick brown fox jumps over the lazy dog .',\n",
    "    'By Jove , my quick study of lexicography won a prize .',\n",
    "    'This is a short sentence .' \n",
    "]\n",
    "\n",
    "text_tokenized, text_tokenizer = tokenize(text_sentences)\n",
    "print(text_tokenizer.word_index)\n",
    "print()\n",
    "for sample_i, (sent, tokn_sent) in enumerate(zip(text_sentences, text_tokenized)) :\n",
    "    print('Sequence {} in x'.format(sample_i + 1))\n",
    "    print(' Input: {}'.format(sent))\n",
    "    print(' Output: {}'.format(tokn_sent))"
   ]
  },
  {
   "cell_type": "code",
   "execution_count": 16,
   "metadata": {},
   "outputs": [
    {
     "name": "stdout",
     "output_type": "stream",
     "text": [
      "Sequence 1 in x\n",
      " Input: [1 2 4 5 6 7 1 8 9]\n",
      " Output: [1 2 4 5 6 7 1 8 9 0]\n",
      "Sequence 2 in x\n",
      " Input: [10 11 12  2 13 14 15 16  3 17]\n",
      " Output: [10 11 12  2 13 14 15 16  3 17]\n",
      "Sequence 3 in x\n",
      " Input: [18 19  3 20 21]\n",
      " Output: [18 19  3 20 21  0  0  0  0  0]\n"
     ]
    }
   ],
   "source": [
    "def pad(x, length= None) :\n",
    "    if length is None :\n",
    "        length = max([len(sentence) for sentence in x])\n",
    "    return pad_sequences(x, maxlen= length, padding= 'post')\n",
    "\n",
    "test_pad = pad(text_tokenized) \n",
    "for sample_i, (token_sent, pad_sent) in enumerate(zip(text_tokenized, test_pad)) :\n",
    "    print('Sequence {} in x'.format(sample_i + 1))\n",
    "    print(' Input: {}'.format(np.array(token_sent)))\n",
    "    print(' Output: {}'.format(pad_sent))"
   ]
  },
  {
   "cell_type": "code",
   "execution_count": 17,
   "metadata": {},
   "outputs": [
    {
     "name": "stdout",
     "output_type": "stream",
     "text": [
      "Data Preprocessed\n",
      "max english sentence length:  15\n",
      "max french sentence length:  21\n",
      "english vocabulary size:  199\n",
      "french vocabulary size:  344\n"
     ]
    }
   ],
   "source": [
    "def preprocess(x,y) :\n",
    "    preprocess_x, x_tk = tokenize(x)\n",
    "    preprocess_y, y_tk = tokenize(y)\n",
    "\n",
    "    preprocess_x = pad(preprocess_x) \n",
    "    preprocess_y = pad(preprocess_y)\n",
    "\n",
    "    preprocess_y = preprocess_y.reshape(*preprocess_y.shape, 1)\n",
    "\n",
    "    return preprocess_x, preprocess_y, x_tk, y_tk\n",
    "\n",
    "preproc_english_sentences, preproc_french_sentences, english_tokenizer, french_tokenizer = preprocess(english_sentences, french_sentences)\n",
    "\n",
    "max_english_sequence_length = preproc_english_sentences.shape[1]\n",
    "max_french_sequence_length = preproc_french_sentences.shape[1]\n",
    "english_vocab_size = len(english_tokenizer.word_index) \n",
    "french_vocab_size = len(french_tokenizer.word_index) \n",
    "\n",
    "print('Data Preprocessed') \n",
    "print(\"max english sentence length: \", max_english_sequence_length)\n",
    "print(\"max french sentence length: \", max_french_sequence_length)\n",
    "print(\"english vocabulary size: \", english_vocab_size) \n",
    "print(\"french vocabulary size: \", french_vocab_size)\n"
   ]
  },
  {
   "cell_type": "markdown",
   "metadata": {},
   "source": [
    "Models"
   ]
  },
  {
   "cell_type": "markdown",
   "metadata": {},
   "source": [
    "* Model 1 is a simple RNN\n",
    "* Model 2 is a Bidirectional RNN\n",
    "* Model 3 is a Embedding RNN"
   ]
  },
  {
   "cell_type": "markdown",
   "metadata": {},
   "source": [
    "Ids Back to Text"
   ]
  },
  {
   "cell_type": "markdown",
   "metadata": {},
   "source": [
    "The neural network will be translating the input to words ids, which isn't thefinal form we want. We want the French translation. The function logits_to_text will bridge the gap between the logits from the neural network to the French translation. You'll be using this function to better understand the output of the neural network.  "
   ]
  },
  {
   "cell_type": "code",
   "execution_count": 18,
   "metadata": {},
   "outputs": [],
   "source": [
    "def logits_to_text(logits, tokenizer) :\n",
    "    index_to_words = {id: word for word, id in tokenizer.word_index.items()}\n",
    "    index_to_words[0] = '<PAD>'\n",
    "\n",
    "    return ' '.join([index_to_words[prediction] for prediction in np.argmax(logits, 1)])\n"
   ]
  },
  {
   "cell_type": "markdown",
   "metadata": {},
   "source": [
    "Model 1 : RNN"
   ]
  },
  {
   "cell_type": "code",
   "execution_count": 19,
   "metadata": {},
   "outputs": [
    {
     "name": "stdout",
     "output_type": "stream",
     "text": [
      "Input shape (tmp_x): (137861, 21, 1)\n",
      "Label shape (preproc_french_sentences): (137861, 21)\n",
      "Epoch 1/10\n",
      "108/108 [==============================] - 173s 2s/step - loss: 0.0735 - accuracy: 0.9907 - val_loss: 3.4809e-05 - val_accuracy: 1.0000\n",
      "Epoch 2/10\n",
      "108/108 [==============================] - 152s 1s/step - loss: 3.4808e-05 - accuracy: 1.0000 - val_loss: 3.4809e-05 - val_accuracy: 1.0000\n",
      "Epoch 3/10\n",
      "108/108 [==============================] - 108s 1s/step - loss: 3.4808e-05 - accuracy: 1.0000 - val_loss: 3.4809e-05 - val_accuracy: 1.0000\n",
      "Epoch 4/10\n",
      "108/108 [==============================] - 110s 1s/step - loss: 3.4808e-05 - accuracy: 1.0000 - val_loss: 3.4809e-05 - val_accuracy: 1.0000\n",
      "Epoch 5/10\n",
      "108/108 [==============================] - 110s 1s/step - loss: 3.4808e-05 - accuracy: 1.0000 - val_loss: 3.4809e-05 - val_accuracy: 1.0000\n",
      "Epoch 6/10\n",
      "108/108 [==============================] - 109s 1s/step - loss: 3.4808e-05 - accuracy: 1.0000 - val_loss: 3.4809e-05 - val_accuracy: 1.0000\n",
      "Epoch 7/10\n",
      "108/108 [==============================] - 106s 986ms/step - loss: 3.4808e-05 - accuracy: 1.0000 - val_loss: 3.4809e-05 - val_accuracy: 1.0000\n",
      "Epoch 8/10\n",
      "108/108 [==============================] - 108s 1s/step - loss: 3.4808e-05 - accuracy: 1.0000 - val_loss: 3.4809e-05 - val_accuracy: 1.0000\n",
      "Epoch 9/10\n",
      "108/108 [==============================] - 150s 1s/step - loss: 3.4808e-05 - accuracy: 1.0000 - val_loss: 3.4809e-05 - val_accuracy: 1.0000\n",
      "Epoch 10/10\n",
      "108/108 [==============================] - 179s 2s/step - loss: 3.4808e-05 - accuracy: 1.0000 - val_loss: 3.4809e-05 - val_accuracy: 1.0000\n"
     ]
    },
    {
     "data": {
      "text/plain": [
       "<keras.callbacks.History at 0x212165617f0>"
      ]
     },
     "execution_count": 19,
     "metadata": {},
     "output_type": "execute_result"
    }
   ],
   "source": [
    "def simple_model(input_shape, output_sequence_length, english_vocab_size, french_vocab_size) :\n",
    "    # hyperparameters\n",
    "    learning_rate = 0.005\n",
    "\n",
    "    # build the layers\n",
    "    model = Sequential()\n",
    "    model.add(GRU(256, input_shape= input_shape[1:], return_sequences= True))\n",
    "    model.add(TimeDistributed(Dense(1024, activation = 'relu')))\n",
    "    model.add(Dropout(0.5))\n",
    "    model.add(TimeDistributed(Dense(french_vocab_size, activation= 'softmax')))\n",
    "\n",
    "    # compile model\n",
    "    model.compile(loss = sparse_categorical_crossentropy,\n",
    "                  optimizer = Adam(learning_rate),\n",
    "                  metrics = ['accuracy']\n",
    "                  )\n",
    "    return model\n",
    "\n",
    "tmp_x = pad(preproc_english_sentences, max_french_sequence_length)\n",
    "tmp_x = tmp_x.reshape((-1, max_french_sequence_length, 1))\n",
    "\n",
    "# Ensure labels are integers\n",
    "if preproc_french_sentences.ndim == 3:\n",
    "    preproc_french_sentences = np.argmax(preproc_french_sentences, axis=-1)\n",
    "\n",
    "# Debugging shapes\n",
    "print(\"Input shape (tmp_x):\", tmp_x.shape)\n",
    "print(\"Label shape (preproc_french_sentences):\", preproc_french_sentences.shape)\n",
    "\n",
    "# Train the model\n",
    "simple_rnn_model = simple_model(\n",
    "    tmp_x.shape,\n",
    "    max_french_sequence_length,\n",
    "    english_vocab_size,\n",
    "    french_vocab_size\n",
    ")\n",
    "\n",
    "simple_rnn_model.fit(\n",
    "    tmp_x,\n",
    "    preproc_french_sentences,\n",
    "    batch_size=1024,\n",
    "    epochs=10,\n",
    "    validation_split=0.2\n",
    ")"
   ]
  },
  {
   "cell_type": "code",
   "execution_count": 20,
   "metadata": {},
   "outputs": [
    {
     "name": "stdout",
     "output_type": "stream",
     "text": [
      "\n",
      "Correct translation:\n",
      "['votre moins aimé fruit est le raisin , mais mon moins aimé est la pomme .']\n",
      "\n",
      "original text:\n",
      "['your least liked fruit is the grape , but my least liked is the apple .']\n"
     ]
    }
   ],
   "source": [
    "\n",
    "print(\"\\nCorrect translation:\")\n",
    "print(french_sentences[4:5])\n",
    "\n",
    "print(\"\\noriginal text:\")\n",
    "print(english_sentences[4:5])\n"
   ]
  },
  {
   "cell_type": "markdown",
   "metadata": {},
   "source": [
    "Model 2 : Bidirectional RNNs"
   ]
  },
  {
   "cell_type": "code",
   "execution_count": 30,
   "metadata": {},
   "outputs": [
    {
     "name": "stdout",
     "output_type": "stream",
     "text": [
      "Model: \"sequential_6\"\n",
      "_________________________________________________________________\n",
      " Layer (type)                Output Shape              Param #   \n",
      "=================================================================\n",
      " bidirectional_3 (Bidirectio  (137861, 21, 256)        100608    \n",
      " nal)                                                            \n",
      "                                                                 \n",
      " time_distributed_4 (TimeDis  (137861, 21, 1024)       263168    \n",
      " tributed)                                                       \n",
      "                                                                 \n",
      " dropout_2 (Dropout)         (137861, 21, 1024)        0         \n",
      "                                                                 \n",
      " time_distributed_5 (TimeDis  (137861, 21, 344)        352600    \n",
      " tributed)                                                       \n",
      "                                                                 \n",
      "=================================================================\n",
      "Total params: 716,376\n",
      "Trainable params: 716,376\n",
      "Non-trainable params: 0\n",
      "_________________________________________________________________\n",
      "None\n"
     ]
    }
   ],
   "source": [
    "def bd_model(input_shape, output_sequence_length, english_vocab_size, french_vocab_size):\n",
    "    # Hyperparameters\n",
    "    learning_rate = 0.005\n",
    "\n",
    "    # Build the layers\n",
    "    model = Sequential()\n",
    "    model.add(Bidirectional(GRU(128, input_shape=input_shape[1:], return_sequences=True)))\n",
    "    model.add(TimeDistributed(Dense(1024, activation='relu')))\n",
    "    model.add(Dropout(0.5))\n",
    "    model.add(TimeDistributed(Dense(french_vocab_size, activation='softmax')))\n",
    "\n",
    "    # Compile model\n",
    "    model.compile(\n",
    "        loss=sparse_categorical_crossentropy,\n",
    "        optimizer=Adam(learning_rate),\n",
    "        metrics=['accuracy']\n",
    "    )\n",
    "    return model\n",
    "\n",
    "# Ensure tmp_x shape is correct\n",
    "tmp_x = pad(preproc_english_sentences, max_french_sequence_length)\n",
    "tmp_x = tmp_x.reshape((-1, max_french_sequence_length, 1))  # Reshape to match (samples, sequence_length, features)\n",
    "\n",
    "# Ensure preproc_french_sentences shape matches the model's expected target\n",
    "preproc_french_sentences = preproc_french_sentences.reshape((-1, max_french_sequence_length, 1))\n",
    "\n",
    "# Train the model\n",
    "bd_rnn_model = bd_model(\n",
    "    tmp_x.shape, \n",
    "    max_french_sequence_length, \n",
    "    english_vocab_size, \n",
    "    french_vocab_size\n",
    ")\n",
    "\n",
    "# Explicitly build the model\n",
    "bd_rnn_model.build(input_shape=tmp_x.shape)\n",
    "\n",
    "# Print the model summary\n",
    "print(bd_rnn_model.summary())\n",
    "\n",
    "\n",
    "\n"
   ]
  },
  {
   "cell_type": "code",
   "execution_count": null,
   "metadata": {},
   "outputs": [],
   "source": [
    "# Train the model\n",
    "bd_rnn_model.fit(\n",
    "    tmp_x,\n",
    "    preproc_french_sentences,\n",
    "    batch_size=1024,\n",
    "    epochs=10,\n",
    "    validation_split=0.2\n",
    ")"
   ]
  },
  {
   "cell_type": "code",
   "execution_count": 22,
   "metadata": {},
   "outputs": [
    {
     "data": {
      "text/plain": [
       "(137861, 21, 1)"
      ]
     },
     "execution_count": 22,
     "metadata": {},
     "output_type": "execute_result"
    }
   ],
   "source": [
    "tmp_x.shape"
   ]
  },
  {
   "cell_type": "code",
   "execution_count": 23,
   "metadata": {},
   "outputs": [
    {
     "data": {
      "text/plain": [
       "(137861, 21, 1)"
      ]
     },
     "execution_count": 23,
     "metadata": {},
     "output_type": "execute_result"
    }
   ],
   "source": [
    "preproc_french_sentences.shape"
   ]
  },
  {
   "cell_type": "code",
   "execution_count": 37,
   "metadata": {},
   "outputs": [],
   "source": [
    " # serialize english tokenizer to json\n",
    "with open('english_tokenizer.json', 'w', encoding= 'utf8') as f :\n",
    "    f.write(json.dumps(english_tokenizer.to_json(), ensure_ascii= False))\n",
    "\n",
    "# serialize french tokenizer to json \n",
    "with open('french_tokenizer.json', 'w', encoding='utf8') as f :\n",
    "    f.write(json.dumps(french_tokenizer.to_json(), ensure_ascii= False))\n",
    "\n",
    "# save max lengths \n",
    "max_french_sequence_length_json = max_french_sequence_length\n",
    "with open('sequence_length.json', 'w', encoding= 'utf8') as f :\n",
    "    f.write(json.dumps(max_french_sequence_length_json, ensure_ascii=False))\n",
    "\n",
    "    \n"
   ]
  }
 ],
 "metadata": {
  "kernelspec": {
   "display_name": "nullclass",
   "language": "python",
   "name": "python3"
  },
  "language_info": {
   "codemirror_mode": {
    "name": "ipython",
    "version": 3
   },
   "file_extension": ".py",
   "mimetype": "text/x-python",
   "name": "python",
   "nbconvert_exporter": "python",
   "pygments_lexer": "ipython3",
   "version": "3.9.20"
  }
 },
 "nbformat": 4,
 "nbformat_minor": 2
}
